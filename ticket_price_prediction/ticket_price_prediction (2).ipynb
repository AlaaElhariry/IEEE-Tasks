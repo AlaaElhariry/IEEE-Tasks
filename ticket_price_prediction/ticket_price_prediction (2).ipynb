{
 "cells": [
  {
   "cell_type": "markdown",
   "id": "13549eff",
   "metadata": {},
   "source": [
    "###### 1. Problem statement"
   ]
  },
  {
   "cell_type": "markdown",
   "id": "c6eec8a7",
   "metadata": {},
   "source": [
    "###### 1.1 introduction\n",
    "We are proposing a system that helps the user to predict the price of an airline ticket "
   ]
  },
  {
   "cell_type": "markdown",
   "id": "e57ebe01",
   "metadata": {},
   "source": [
    "###### 1.2 Dataset features\n",
    "* `Airline`: The name of the airline company.\n",
    "* `Date_of_Journey`: The date of the journey.\n",
    "* `Source`:The source from which the service begins.\n",
    "* `Destination `:The destination where the service endss.\n",
    "* `Route`: The route taken by the flight to reach the destination.\n",
    "* `Dep_Time`: The time when the journey starts from the source.\n",
    "* `Arrival_Time`: Time of arrival at the destination.\n",
    "* `Duration`:Total duration of the flight.\n",
    "* `Total_Stops`:  Total stops between the source and destination.\n",
    "* `Additional_Info`: Additional information about the flight.\n",
    "* **`Price`**: The price of the ticket."
   ]
  },
  {
   "cell_type": "markdown",
   "id": "a5b19ea7",
   "metadata": {},
   "source": [
    "###### 2.importing packages"
   ]
  },
  {
   "cell_type": "code",
   "execution_count": 1,
   "id": "5257fdbb",
   "metadata": {},
   "outputs": [],
   "source": [
    "import pandas as pd\n",
    "import numpy as np\n",
    "import seaborn as sns\n",
    "import matplotlib.pyplot as plt\n",
    "\n",
    "\n",
    "import warnings\n",
    "warnings.filterwarnings('ignore')\n",
    "from sklearn.preprocessing import StandardScaler\n",
    "from sklearn.model_selection import train_test_split\n",
    "from sklearn.preprocessing import OneHotEncoder\n",
    "#Algorithms\n",
    "from sklearn.linear_model import LinearRegression\n",
    "from sklearn.linear_model import Ridge\n",
    "from sklearn.tree import DecisionTreeRegressor\n",
    "from sklearn.ensemble import RandomForestRegressor\n",
    "from xgboost import XGBRegressor\n",
    "\n",
    "#Tuning\n",
    "from sklearn.model_selection import GridSearchCV\n",
    "from sklearn.model_selection import RandomizedSearchCV\n",
    "#Metrics\n",
    "from sklearn.metrics import r2_score\n",
    "from sklearn.metrics import mean_squared_error\n",
    "from sklearn.metrics import mean_absolute_error"
   ]
  },
  {
   "cell_type": "markdown",
   "id": "7b461b62",
   "metadata": {},
   "source": [
    "###### 3.Data Wrangling\n",
    "here, we'd load our data from the CSV file, and dive deeper into it to check for any required cleaning steps."
   ]
  },
  {
   "cell_type": "code",
   "execution_count": 2,
   "id": "8905f274",
   "metadata": {},
   "outputs": [
    {
     "data": {
      "text/html": [
       "<div>\n",
       "<style scoped>\n",
       "    .dataframe tbody tr th:only-of-type {\n",
       "        vertical-align: middle;\n",
       "    }\n",
       "\n",
       "    .dataframe tbody tr th {\n",
       "        vertical-align: top;\n",
       "    }\n",
       "\n",
       "    .dataframe thead th {\n",
       "        text-align: right;\n",
       "    }\n",
       "</style>\n",
       "<table border=\"1\" class=\"dataframe\">\n",
       "  <thead>\n",
       "    <tr style=\"text-align: right;\">\n",
       "      <th></th>\n",
       "      <th>Airline</th>\n",
       "      <th>Date_of_Journey</th>\n",
       "      <th>Source</th>\n",
       "      <th>Destination</th>\n",
       "      <th>Route</th>\n",
       "      <th>Dep_Time</th>\n",
       "      <th>Arrival_Time</th>\n",
       "      <th>Duration</th>\n",
       "      <th>Total_Stops</th>\n",
       "      <th>Additional_Info</th>\n",
       "      <th>Price</th>\n",
       "    </tr>\n",
       "  </thead>\n",
       "  <tbody>\n",
       "    <tr>\n",
       "      <th>0</th>\n",
       "      <td>IndiGo</td>\n",
       "      <td>9/06/2019</td>\n",
       "      <td>Kolkata</td>\n",
       "      <td>Banglore</td>\n",
       "      <td>CCU → BLR</td>\n",
       "      <td>14:25</td>\n",
       "      <td>16:55</td>\n",
       "      <td>2h 30m</td>\n",
       "      <td>non-stop</td>\n",
       "      <td>No info</td>\n",
       "      <td>5644</td>\n",
       "    </tr>\n",
       "    <tr>\n",
       "      <th>1</th>\n",
       "      <td>Vistara</td>\n",
       "      <td>6/03/2019</td>\n",
       "      <td>Mumbai</td>\n",
       "      <td>Hyderabad</td>\n",
       "      <td>BOM → DEL → HYD</td>\n",
       "      <td>08:45</td>\n",
       "      <td>09:25 07 Mar</td>\n",
       "      <td>24h 40m</td>\n",
       "      <td>1 stop</td>\n",
       "      <td>No info</td>\n",
       "      <td>12395</td>\n",
       "    </tr>\n",
       "    <tr>\n",
       "      <th>2</th>\n",
       "      <td>IndiGo</td>\n",
       "      <td>3/04/2019</td>\n",
       "      <td>Banglore</td>\n",
       "      <td>Delhi</td>\n",
       "      <td>BLR → DEL</td>\n",
       "      <td>06:05</td>\n",
       "      <td>08:50</td>\n",
       "      <td>2h 45m</td>\n",
       "      <td>non-stop</td>\n",
       "      <td>No info</td>\n",
       "      <td>4077</td>\n",
       "    </tr>\n",
       "    <tr>\n",
       "      <th>3</th>\n",
       "      <td>Vistara</td>\n",
       "      <td>12/06/2019</td>\n",
       "      <td>Kolkata</td>\n",
       "      <td>Banglore</td>\n",
       "      <td>CCU → DEL → BLR</td>\n",
       "      <td>17:00</td>\n",
       "      <td>23:25</td>\n",
       "      <td>6h 25m</td>\n",
       "      <td>1 stop</td>\n",
       "      <td>No info</td>\n",
       "      <td>8610</td>\n",
       "    </tr>\n",
       "    <tr>\n",
       "      <th>4</th>\n",
       "      <td>IndiGo</td>\n",
       "      <td>01/03/2019</td>\n",
       "      <td>Banglore</td>\n",
       "      <td>New Delhi</td>\n",
       "      <td>BLR → DEL</td>\n",
       "      <td>10:05</td>\n",
       "      <td>13:00</td>\n",
       "      <td>2h 55m</td>\n",
       "      <td>non-stop</td>\n",
       "      <td>No info</td>\n",
       "      <td>10067</td>\n",
       "    </tr>\n",
       "  </tbody>\n",
       "</table>\n",
       "</div>"
      ],
      "text/plain": [
       "   Airline Date_of_Journey    Source Destination            Route Dep_Time  \\\n",
       "0   IndiGo       9/06/2019   Kolkata    Banglore        CCU → BLR    14:25   \n",
       "1  Vistara       6/03/2019    Mumbai   Hyderabad  BOM → DEL → HYD    08:45   \n",
       "2   IndiGo       3/04/2019  Banglore       Delhi        BLR → DEL    06:05   \n",
       "3  Vistara      12/06/2019   Kolkata    Banglore  CCU → DEL → BLR    17:00   \n",
       "4   IndiGo      01/03/2019  Banglore   New Delhi        BLR → DEL    10:05   \n",
       "\n",
       "   Arrival_Time Duration Total_Stops Additional_Info  Price  \n",
       "0         16:55   2h 30m    non-stop         No info   5644  \n",
       "1  09:25 07 Mar  24h 40m      1 stop         No info  12395  \n",
       "2         08:50   2h 45m    non-stop         No info   4077  \n",
       "3         23:25   6h 25m      1 stop         No info   8610  \n",
       "4         13:00   2h 55m    non-stop         No info  10067  "
      ]
     },
     "execution_count": 2,
     "metadata": {},
     "output_type": "execute_result"
    }
   ],
   "source": [
    "# loading data and viewing its first 5 rows\n",
    "df= pd.read_csv(\"Train set.csv\")\n",
    "df.head()"
   ]
  },
  {
   "cell_type": "code",
   "execution_count": 3,
   "id": "8e0e7761",
   "metadata": {},
   "outputs": [
    {
     "name": "stdout",
     "output_type": "stream",
     "text": [
      "<class 'pandas.core.frame.DataFrame'>\n",
      "RangeIndex: 8012 entries, 0 to 8011\n",
      "Data columns (total 11 columns):\n",
      " #   Column           Non-Null Count  Dtype \n",
      "---  ------           --------------  ----- \n",
      " 0   Airline          8012 non-null   object\n",
      " 1   Date_of_Journey  8012 non-null   object\n",
      " 2   Source           8012 non-null   object\n",
      " 3   Destination      8012 non-null   object\n",
      " 4   Route            8011 non-null   object\n",
      " 5   Dep_Time         8012 non-null   object\n",
      " 6   Arrival_Time     8012 non-null   object\n",
      " 7   Duration         8012 non-null   object\n",
      " 8   Total_Stops      8011 non-null   object\n",
      " 9   Additional_Info  8012 non-null   object\n",
      " 10  Price            8012 non-null   int64 \n",
      "dtypes: int64(1), object(10)\n",
      "memory usage: 688.7+ KB\n"
     ]
    }
   ],
   "source": [
    "# viewing dataset info\n",
    "df.info()"
   ]
  },
  {
   "cell_type": "markdown",
   "id": "6cc21dff",
   "metadata": {},
   "source": [
    "* `Route` column wouldn't be so useful during analysis\n",
    "* `Date_of_Journey` column needs to be casted into date time \n",
    "* `Duration` and `Total_Stops` need to be organized and casted into integers"
   ]
  },
  {
   "cell_type": "code",
   "execution_count": 4,
   "id": "f3ecfd48",
   "metadata": {},
   "outputs": [
    {
     "data": {
      "text/plain": [
       "Airline            0\n",
       "Date_of_Journey    0\n",
       "Source             0\n",
       "Destination        0\n",
       "Route              1\n",
       "Dep_Time           0\n",
       "Arrival_Time       0\n",
       "Duration           0\n",
       "Total_Stops        1\n",
       "Additional_Info    0\n",
       "Price              0\n",
       "dtype: int64"
      ]
     },
     "execution_count": 4,
     "metadata": {},
     "output_type": "execute_result"
    }
   ],
   "source": [
    "# check for missing values\n",
    "df.isna().sum()"
   ]
  },
  {
   "cell_type": "markdown",
   "id": "cd7b3454",
   "metadata": {},
   "source": [
    "* our data has 2 missing values one in the 'Route' and one int the 'Total_Stops' column"
   ]
  },
  {
   "cell_type": "code",
   "execution_count": 5,
   "id": "56f336c4",
   "metadata": {},
   "outputs": [
    {
     "data": {
      "text/plain": [
       "125"
      ]
     },
     "execution_count": 5,
     "metadata": {},
     "output_type": "execute_result"
    }
   ],
   "source": [
    "# check for duplicated rows\n",
    "df.duplicated().sum()"
   ]
  },
  {
   "cell_type": "markdown",
   "id": "cfc9d2e1",
   "metadata": {},
   "source": [
    "* our dataset has 125 duplicated rows."
   ]
  },
  {
   "cell_type": "code",
   "execution_count": 6,
   "id": "289b8ee4",
   "metadata": {},
   "outputs": [
    {
     "data": {
      "text/html": [
       "<div>\n",
       "<style scoped>\n",
       "    .dataframe tbody tr th:only-of-type {\n",
       "        vertical-align: middle;\n",
       "    }\n",
       "\n",
       "    .dataframe tbody tr th {\n",
       "        vertical-align: top;\n",
       "    }\n",
       "\n",
       "    .dataframe thead th {\n",
       "        text-align: right;\n",
       "    }\n",
       "</style>\n",
       "<table border=\"1\" class=\"dataframe\">\n",
       "  <thead>\n",
       "    <tr style=\"text-align: right;\">\n",
       "      <th></th>\n",
       "      <th>Price</th>\n",
       "    </tr>\n",
       "  </thead>\n",
       "  <tbody>\n",
       "    <tr>\n",
       "      <th>count</th>\n",
       "      <td>8012.000000</td>\n",
       "    </tr>\n",
       "    <tr>\n",
       "      <th>mean</th>\n",
       "      <td>9094.237269</td>\n",
       "    </tr>\n",
       "    <tr>\n",
       "      <th>std</th>\n",
       "      <td>4571.794408</td>\n",
       "    </tr>\n",
       "    <tr>\n",
       "      <th>min</th>\n",
       "      <td>1759.000000</td>\n",
       "    </tr>\n",
       "    <tr>\n",
       "      <th>25%</th>\n",
       "      <td>5351.000000</td>\n",
       "    </tr>\n",
       "    <tr>\n",
       "      <th>50%</th>\n",
       "      <td>8372.000000</td>\n",
       "    </tr>\n",
       "    <tr>\n",
       "      <th>75%</th>\n",
       "      <td>12373.000000</td>\n",
       "    </tr>\n",
       "    <tr>\n",
       "      <th>max</th>\n",
       "      <td>79512.000000</td>\n",
       "    </tr>\n",
       "  </tbody>\n",
       "</table>\n",
       "</div>"
      ],
      "text/plain": [
       "              Price\n",
       "count   8012.000000\n",
       "mean    9094.237269\n",
       "std     4571.794408\n",
       "min     1759.000000\n",
       "25%     5351.000000\n",
       "50%     8372.000000\n",
       "75%    12373.000000\n",
       "max    79512.000000"
      ]
     },
     "execution_count": 6,
     "metadata": {},
     "output_type": "execute_result"
    }
   ],
   "source": [
    "# exploring summary statistics\n",
    "df.describe()"
   ]
  },
  {
   "cell_type": "markdown",
   "id": "32a211df",
   "metadata": {},
   "source": [
    "* it looks the price column has outliers"
   ]
  },
  {
   "cell_type": "code",
   "execution_count": 7,
   "id": "c61dd057",
   "metadata": {},
   "outputs": [
    {
     "data": {
      "image/png": "[encoded data removed]",
      "text/plain": [
       "<Figure size 432x288 with 1 Axes>"
      ]
     },
     "metadata": {
      "needs_background": "light"
     },
     "output_type": "display_data"
    }
   ],
   "source": [
    "# exploring the price column\n",
    "sns.boxplot(x= 'Price', data=df)\n",
    "plt.title(\"Price column distribution\")\n",
    "plt.show()"
   ]
  },
  {
   "cell_type": "markdown",
   "id": "c5a4c43b",
   "metadata": {},
   "source": [
    "* the price column has outliers that needs to be handeled"
   ]
  },
  {
   "cell_type": "markdown",
   "id": "1099574e",
   "metadata": {},
   "source": [
    "###### Exploration Summarey\n",
    "* we have a dataframe consisting of 8012 rows and 11 columns.\n",
    "* our dataset has 2 NANs and 125 duplicated rows which we'll drop.\n",
    "* `Date_of_Journey` column needs to be casted into date time to extract the month and day of the journy\n",
    "* `Route` wouldn't be so useful during analysis, so we'll drop them.\n",
    "* `Duration` and `Total_Stops` are not in an appropriate form which we need to convert into integer.\n",
    "* `Duration`and `Price` column has obvious ouliers\n",
    "* `Dep_Time` and `Arrival_Time` are not in an appropriate form which we need to convert into integer."
   ]
  },
  {
   "cell_type": "markdown",
   "id": "9d4f2672",
   "metadata": {},
   "source": [
    "###### 4.cleaning"
   ]
  },
  {
   "cell_type": "markdown",
   "id": "51553587",
   "metadata": {},
   "source": [
    "###### Drooping misssing values"
   ]
  },
  {
   "cell_type": "code",
   "execution_count": 8,
   "id": "4268d6de",
   "metadata": {},
   "outputs": [
    {
     "data": {
      "text/plain": [
       "Airline            0\n",
       "Date_of_Journey    0\n",
       "Source             0\n",
       "Destination        0\n",
       "Route              0\n",
       "Dep_Time           0\n",
       "Arrival_Time       0\n",
       "Duration           0\n",
       "Total_Stops        0\n",
       "Additional_Info    0\n",
       "Price              0\n",
       "dtype: int64"
      ]
     },
     "execution_count": 8,
     "metadata": {},
     "output_type": "execute_result"
    }
   ],
   "source": [
    "# dropping NANs \n",
    "df.dropna(inplace=True)\n",
    "\n",
    "# confirming\n",
    "df.isna().sum()"
   ]
  },
  {
   "cell_type": "markdown",
   "id": "6073294e",
   "metadata": {},
   "source": [
    "###### Dropping duplcated rows"
   ]
  },
  {
   "cell_type": "code",
   "execution_count": 9,
   "id": "3556d6f0",
   "metadata": {},
   "outputs": [
    {
     "data": {
      "text/plain": [
       "0"
      ]
     },
     "execution_count": 9,
     "metadata": {},
     "output_type": "execute_result"
    }
   ],
   "source": [
    "# dropping duplicates\n",
    "df.drop_duplicates(inplace=True)\n",
    "\n",
    "# confirming\n",
    "df.duplicated().sum()"
   ]
  },
  {
   "cell_type": "markdown",
   "id": "72340801",
   "metadata": {},
   "source": [
    "###### Dropping  `Route` column"
   ]
  },
  {
   "cell_type": "code",
   "execution_count": 10,
   "id": "51bf11ee",
   "metadata": {},
   "outputs": [
    {
     "data": {
      "text/plain": [
       "Index(['Airline', 'Date_of_Journey', 'Source', 'Destination', 'Dep_Time',\n",
       "       'Arrival_Time', 'Duration', 'Total_Stops', 'Additional_Info', 'Price'],\n",
       "      dtype='object')"
      ]
     },
     "execution_count": 10,
     "metadata": {},
     "output_type": "execute_result"
    }
   ],
   "source": [
    "# dropping Route column \n",
    "df.drop('Route', axis = 1, inplace = True)\n",
    "\n",
    "# confirming changes\n",
    "df.columns"
   ]
  },
  {
   "cell_type": "markdown",
   "id": "079bec27",
   "metadata": {},
   "source": [
    "###### Casting `Release_Date` column and extracing year , month and day values"
   ]
  },
  {
   "cell_type": "code",
   "execution_count": 11,
   "id": "4057aa0e",
   "metadata": {},
   "outputs": [
    {
     "name": "stdout",
     "output_type": "stream",
     "text": [
      "datetime64[ns]\n"
     ]
    }
   ],
   "source": [
    "# casting column\n",
    "df['Date_of_Journey']= pd.to_datetime(df['Date_of_Journey'])\n",
    "\n",
    "# confirming changes\n",
    "print(df['Date_of_Journey'].dtypes)"
   ]
  },
  {
   "cell_type": "code",
   "execution_count": 12,
   "id": "43b42d6a",
   "metadata": {},
   "outputs": [
    {
     "data": {
      "text/plain": [
       "array([2019], dtype=int64)"
      ]
     },
     "execution_count": 12,
     "metadata": {},
     "output_type": "execute_result"
    }
   ],
   "source": [
    "# extracting the year valus\n",
    "years= df['Date_of_Journey'].dt.year\n",
    "\n",
    "# getting the years' unique values\n",
    "years.unique()"
   ]
  },
  {
   "cell_type": "markdown",
   "id": "35d16641",
   "metadata": {},
   "source": [
    "* All of our data is in 2019. So, We wolud just keep the month and day values"
   ]
  },
  {
   "cell_type": "code",
   "execution_count": 13,
   "id": "b28195ce",
   "metadata": {},
   "outputs": [
    {
     "data": {
      "text/plain": [
       "dtype('int64')"
      ]
     },
     "execution_count": 13,
     "metadata": {},
     "output_type": "execute_result"
    }
   ],
   "source": [
    "# extracting the month values\n",
    "df['Journey_month'] = df['Date_of_Journey'].dt.month\n",
    "\n",
    "# confirm changes\n",
    "df['Journey_month'].dtypes"
   ]
  },
  {
   "cell_type": "code",
   "execution_count": 14,
   "id": "ce143db7",
   "metadata": {},
   "outputs": [
    {
     "data": {
      "text/plain": [
       "dtype('int64')"
      ]
     },
     "execution_count": 14,
     "metadata": {},
     "output_type": "execute_result"
    }
   ],
   "source": [
    "# extracting the day values\n",
    "df['Journey_day'] = df['Date_of_Journey'].dt.day\n",
    "\n",
    "# confirm changes\n",
    "df['Journey_day'].dtypes"
   ]
  },
  {
   "cell_type": "code",
   "execution_count": 15,
   "id": "6c67dc70",
   "metadata": {},
   "outputs": [
    {
     "data": {
      "text/plain": [
       "Index(['Airline', 'Source', 'Destination', 'Dep_Time', 'Arrival_Time',\n",
       "       'Duration', 'Total_Stops', 'Additional_Info', 'Price', 'Journey_month',\n",
       "       'Journey_day'],\n",
       "      dtype='object')"
      ]
     },
     "execution_count": 15,
     "metadata": {},
     "output_type": "execute_result"
    }
   ],
   "source": [
    "# Now we can drop the Date_of_journey column\n",
    "df.drop('Date_of_Journey',axis=1,inplace=True)\n",
    "\n",
    "# confirming\n",
    "df.columns"
   ]
  },
  {
   "cell_type": "markdown",
   "id": "0f516de7",
   "metadata": {},
   "source": [
    "###### Organizing  `Total_Stops` column\n"
   ]
  },
  {
   "cell_type": "code",
   "execution_count": 16,
   "id": "24407104",
   "metadata": {},
   "outputs": [],
   "source": [
    "# here, values are assigned to the correspondeing keys\n",
    "df.replace({'Total_Stops' :{'non-stop':0, '1 stop':1, '2 stops':2, '3 stops':3, '4 stops':4}}, inplace=True)"
   ]
  },
  {
   "cell_type": "code",
   "execution_count": 17,
   "id": "56b94fac",
   "metadata": {},
   "outputs": [
    {
     "data": {
      "text/plain": [
       "dtype('int32')"
      ]
     },
     "execution_count": 17,
     "metadata": {},
     "output_type": "execute_result"
    }
   ],
   "source": [
    "# casting the column into integer\n",
    "df['Total_Stops']= df['Total_Stops'].astype('int')\n",
    "\n",
    "# confirming \n",
    "df['Total_Stops'].dtypes"
   ]
  },
  {
   "cell_type": "markdown",
   "id": "7c124497",
   "metadata": {},
   "source": [
    "###### Organizing  `Duration` column\n",
    "for this columns, we will combine the hours and munites values into one which would be and integer representing the duration in munites "
   ]
  },
  {
   "cell_type": "code",
   "execution_count": 18,
   "id": "0aab3226",
   "metadata": {},
   "outputs": [
    {
     "data": {
      "text/plain": [
       "dtype('int64')"
      ]
     },
     "execution_count": 18,
     "metadata": {},
     "output_type": "execute_result"
    }
   ],
   "source": [
    "# combine the hours and munites values into one\n",
    "df['Duration'] = df['Duration'].str.replace(\"h\", '*60').str.replace(' ','+').str.replace('m','*1').apply(eval)\n",
    "\n",
    "# confirming\n",
    "df['Duration'].dtypes"
   ]
  },
  {
   "cell_type": "markdown",
   "id": "124ebed3",
   "metadata": {},
   "source": [
    "######  `Dep_Time` and `Arrival_Time`\n",
    "* for these columns we need extract hour and munite values and create separate columns for each"
   ]
  },
  {
   "cell_type": "code",
   "execution_count": 19,
   "id": "9696fccb",
   "metadata": {},
   "outputs": [],
   "source": [
    "# the Arrival_Time column\n",
    "\n",
    "# Removing the attached date\n",
    "df['Arrival_Time']=df['Arrival_Time'].str.split(' ').str[0]\n",
    "\n",
    "# Extracting Hours\n",
    "df[\"Arrival_hour\"] = pd.to_datetime(df.Arrival_Time).dt.hour\n",
    "\n",
    "# Extracting Minutes\n",
    "df[\"Arrival_min\"] = pd.to_datetime(df.Arrival_Time).dt.minute\n",
    "\n",
    "# Now we can drop Arrival_Time column\n",
    "df.drop([\"Arrival_Time\"], axis = 1, inplace = True)"
   ]
  },
  {
   "cell_type": "markdown",
   "id": "e7eb0f61",
   "metadata": {},
   "source": [
    "we'd do the same with the Dep_Time column"
   ]
  },
  {
   "cell_type": "code",
   "execution_count": 20,
   "id": "a42836fb",
   "metadata": {},
   "outputs": [],
   "source": [
    "# Extracting Hours\n",
    "df[\"Dep_hour\"] = pd.to_datetime(df[\"Dep_Time\"]).dt.hour\n",
    "\n",
    "# Extracting Minutes\n",
    "df[\"Dep_min\"] = pd.to_datetime(df[\"Dep_Time\"]).dt.minute\n",
    "\n",
    "# Now we can drop Dep_Time column\n",
    "df.drop([\"Dep_Time\"], axis = 1, inplace = True)"
   ]
  },
  {
   "cell_type": "code",
   "execution_count": 21,
   "id": "db728c48",
   "metadata": {},
   "outputs": [
    {
     "data": {
      "text/html": [
       "<div>\n",
       "<style scoped>\n",
       "    .dataframe tbody tr th:only-of-type {\n",
       "        vertical-align: middle;\n",
       "    }\n",
       "\n",
       "    .dataframe tbody tr th {\n",
       "        vertical-align: top;\n",
       "    }\n",
       "\n",
       "    .dataframe thead th {\n",
       "        text-align: right;\n",
       "    }\n",
       "</style>\n",
       "<table border=\"1\" class=\"dataframe\">\n",
       "  <thead>\n",
       "    <tr style=\"text-align: right;\">\n",
       "      <th></th>\n",
       "      <th>Airline</th>\n",
       "      <th>Source</th>\n",
       "      <th>Destination</th>\n",
       "      <th>Duration</th>\n",
       "      <th>Total_Stops</th>\n",
       "      <th>Additional_Info</th>\n",
       "      <th>Price</th>\n",
       "      <th>Journey_month</th>\n",
       "      <th>Journey_day</th>\n",
       "      <th>Arrival_hour</th>\n",
       "      <th>Arrival_min</th>\n",
       "      <th>Dep_hour</th>\n",
       "      <th>Dep_min</th>\n",
       "    </tr>\n",
       "  </thead>\n",
       "  <tbody>\n",
       "    <tr>\n",
       "      <th>0</th>\n",
       "      <td>IndiGo</td>\n",
       "      <td>Kolkata</td>\n",
       "      <td>Banglore</td>\n",
       "      <td>150</td>\n",
       "      <td>0</td>\n",
       "      <td>No info</td>\n",
       "      <td>5644</td>\n",
       "      <td>9</td>\n",
       "      <td>6</td>\n",
       "      <td>16</td>\n",
       "      <td>55</td>\n",
       "      <td>14</td>\n",
       "      <td>25</td>\n",
       "    </tr>\n",
       "    <tr>\n",
       "      <th>1</th>\n",
       "      <td>Vistara</td>\n",
       "      <td>Mumbai</td>\n",
       "      <td>Hyderabad</td>\n",
       "      <td>1480</td>\n",
       "      <td>1</td>\n",
       "      <td>No info</td>\n",
       "      <td>12395</td>\n",
       "      <td>6</td>\n",
       "      <td>3</td>\n",
       "      <td>9</td>\n",
       "      <td>25</td>\n",
       "      <td>8</td>\n",
       "      <td>45</td>\n",
       "    </tr>\n",
       "    <tr>\n",
       "      <th>2</th>\n",
       "      <td>IndiGo</td>\n",
       "      <td>Banglore</td>\n",
       "      <td>Delhi</td>\n",
       "      <td>165</td>\n",
       "      <td>0</td>\n",
       "      <td>No info</td>\n",
       "      <td>4077</td>\n",
       "      <td>3</td>\n",
       "      <td>4</td>\n",
       "      <td>8</td>\n",
       "      <td>50</td>\n",
       "      <td>6</td>\n",
       "      <td>5</td>\n",
       "    </tr>\n",
       "    <tr>\n",
       "      <th>3</th>\n",
       "      <td>Vistara</td>\n",
       "      <td>Kolkata</td>\n",
       "      <td>Banglore</td>\n",
       "      <td>385</td>\n",
       "      <td>1</td>\n",
       "      <td>No info</td>\n",
       "      <td>8610</td>\n",
       "      <td>12</td>\n",
       "      <td>6</td>\n",
       "      <td>23</td>\n",
       "      <td>25</td>\n",
       "      <td>17</td>\n",
       "      <td>0</td>\n",
       "    </tr>\n",
       "    <tr>\n",
       "      <th>4</th>\n",
       "      <td>IndiGo</td>\n",
       "      <td>Banglore</td>\n",
       "      <td>New Delhi</td>\n",
       "      <td>175</td>\n",
       "      <td>0</td>\n",
       "      <td>No info</td>\n",
       "      <td>10067</td>\n",
       "      <td>1</td>\n",
       "      <td>3</td>\n",
       "      <td>13</td>\n",
       "      <td>0</td>\n",
       "      <td>10</td>\n",
       "      <td>5</td>\n",
       "    </tr>\n",
       "  </tbody>\n",
       "</table>\n",
       "</div>"
      ],
      "text/plain": [
       "   Airline    Source Destination  Duration  Total_Stops Additional_Info  \\\n",
       "0   IndiGo   Kolkata    Banglore       150            0         No info   \n",
       "1  Vistara    Mumbai   Hyderabad      1480            1         No info   \n",
       "2   IndiGo  Banglore       Delhi       165            0         No info   \n",
       "3  Vistara   Kolkata    Banglore       385            1         No info   \n",
       "4   IndiGo  Banglore   New Delhi       175            0         No info   \n",
       "\n",
       "   Price  Journey_month  Journey_day  Arrival_hour  Arrival_min  Dep_hour  \\\n",
       "0   5644              9            6            16           55        14   \n",
       "1  12395              6            3             9           25         8   \n",
       "2   4077              3            4             8           50         6   \n",
       "3   8610             12            6            23           25        17   \n",
       "4  10067              1            3            13            0        10   \n",
       "\n",
       "   Dep_min  \n",
       "0       25  \n",
       "1       45  \n",
       "2        5  \n",
       "3        0  \n",
       "4        5  "
      ]
     },
     "execution_count": 21,
     "metadata": {},
     "output_type": "execute_result"
    }
   ],
   "source": [
    "# confirming\n",
    "df.head()"
   ]
  },
  {
   "cell_type": "markdown",
   "id": "ce5e4923",
   "metadata": {},
   "source": [
    "###### Handeling the `Duration` column outliers"
   ]
  },
  {
   "cell_type": "code",
   "execution_count": 22,
   "id": "be5e1b9e",
   "metadata": {
    "scrolled": true
   },
   "outputs": [
    {
     "data": {
      "image/png": "[encoded data removed]",
      "text/plain": [
       "<Figure size 432x288 with 1 Axes>"
      ]
     },
     "metadata": {
      "needs_background": "light"
     },
     "output_type": "display_data"
    }
   ],
   "source": [
    "# exploring the column\n",
    "sns.boxplot(x= 'Duration', data=df)\n",
    "plt.title(\"Duration column distribution\")\n",
    "plt.show()"
   ]
  },
  {
   "cell_type": "markdown",
   "id": "f9ea56d0",
   "metadata": {},
   "source": [
    "* all the outliers are high outliers\n",
    "* the upper bound is approximately 2000"
   ]
  },
  {
   "cell_type": "code",
   "execution_count": 23,
   "id": "aa92eae5",
   "metadata": {},
   "outputs": [
    {
     "data": {
      "text/plain": [
       "2037.5"
      ]
     },
     "execution_count": 23,
     "metadata": {},
     "output_type": "execute_result"
    }
   ],
   "source": [
    "# calculating the uuper bound\n",
    "Q1, Q3= np.percentile(df['Duration'],[25,75])\n",
    "IQR= Q3 - Q1\n",
    "max= Q3 + (1.5 * IQR)\n",
    "max"
   ]
  },
  {
   "cell_type": "code",
   "execution_count": 24,
   "id": "dcbc6e10",
   "metadata": {},
   "outputs": [
    {
     "data": {
      "text/plain": [
       "(60, 13)"
      ]
     },
     "execution_count": 24,
     "metadata": {},
     "output_type": "execute_result"
    }
   ],
   "source": [
    "# counting the number of outliers\n",
    "df[df['Duration']>2037.5].shape"
   ]
  },
  {
   "cell_type": "markdown",
   "id": "0530eb65",
   "metadata": {},
   "source": [
    "* the outliers are only 60 so we can drop them"
   ]
  },
  {
   "cell_type": "code",
   "execution_count": 25,
   "id": "cc209857",
   "metadata": {},
   "outputs": [],
   "source": [
    "# dropping outliers\n",
    "df= df[df['Duration'] <= 2037.5]"
   ]
  },
  {
   "cell_type": "code",
   "execution_count": 26,
   "id": "0ea0e2f9",
   "metadata": {},
   "outputs": [
    {
     "data": {
      "image/png": "[encoded data removed]",
      "text/plain": [
       "<Figure size 432x288 with 1 Axes>"
      ]
     },
     "metadata": {
      "needs_background": "light"
     },
     "output_type": "display_data"
    }
   ],
   "source": [
    "# confirming changes\n",
    "sns.boxplot(x= 'Duration', data=df)\n",
    "plt.title(\"Duration column distribution\")\n",
    "plt.show()"
   ]
  },
  {
   "cell_type": "markdown",
   "id": "db767cff",
   "metadata": {},
   "source": [
    "###### Handeling the `Price` column outliers\n",
    "same as we've done with duration column"
   ]
  },
  {
   "cell_type": "code",
   "execution_count": 27,
   "id": "a60878bf",
   "metadata": {},
   "outputs": [
    {
     "data": {
      "image/png": "[encoded data removed]",
      "text/plain": [
       "<Figure size 432x288 with 1 Axes>"
      ]
     },
     "metadata": {
      "needs_background": "light"
     },
     "output_type": "display_data"
    }
   ],
   "source": [
    "# exploring the column\n",
    "sns.boxplot(x= 'Price', data=df)\n",
    "plt.title(\"Price column distribution\")\n",
    "plt.show()"
   ]
  },
  {
   "cell_type": "markdown",
   "id": "d0d4dc53",
   "metadata": {},
   "source": [
    "* all the outliers are hight outliers\n",
    "* the upper bound is approximately 22000"
   ]
  },
  {
   "cell_type": "code",
   "execution_count": 28,
   "id": "034bd275",
   "metadata": {},
   "outputs": [
    {
     "data": {
      "text/plain": [
       "22862.0"
      ]
     },
     "execution_count": 28,
     "metadata": {},
     "output_type": "execute_result"
    }
   ],
   "source": [
    "# calculating the uuper bound\n",
    "Q1, Q3= np.percentile(df['Price'],[25,75])\n",
    "IQR= Q3 - Q1\n",
    "max= Q3 + (1.5 * IQR)\n",
    "max"
   ]
  },
  {
   "cell_type": "code",
   "execution_count": 29,
   "id": "07fcac8a",
   "metadata": {},
   "outputs": [
    {
     "data": {
      "text/plain": [
       "(73, 13)"
      ]
     },
     "execution_count": 29,
     "metadata": {},
     "output_type": "execute_result"
    }
   ],
   "source": [
    "# counting the number of outliers\n",
    "df[df['Price']>22862.0].shape"
   ]
  },
  {
   "cell_type": "code",
   "execution_count": 30,
   "id": "680786c0",
   "metadata": {},
   "outputs": [],
   "source": [
    "# dropping outliers\n",
    "df= df[df['Price']<=22862.0]"
   ]
  },
  {
   "cell_type": "code",
   "execution_count": 31,
   "id": "b6461dea",
   "metadata": {},
   "outputs": [
    {
     "data": {
      "image/png": "[encoded data removed]",
      "text/plain": [
       "<Figure size 432x288 with 1 Axes>"
      ]
     },
     "metadata": {
      "needs_background": "light"
     },
     "output_type": "display_data"
    }
   ],
   "source": [
    "# confirming changes\n",
    "sns.boxplot(x= 'Price', data=df)\n",
    "plt.title(\"Price column distribution after dropping outliers\")\n",
    "plt.show()"
   ]
  },
  {
   "cell_type": "markdown",
   "id": "d4326c25",
   "metadata": {},
   "source": [
    "###### `Additional_Info`"
   ]
  },
  {
   "cell_type": "code",
   "execution_count": 32,
   "id": "8c7288ce",
   "metadata": {},
   "outputs": [],
   "source": [
    "df['Additional_Info'].replace({'No Info':'No info'},inplace = True)"
   ]
  },
  {
   "cell_type": "markdown",
   "id": "1fc7ce56",
   "metadata": {},
   "source": [
    "###### confirming changes"
   ]
  },
  {
   "cell_type": "code",
   "execution_count": 33,
   "id": "d399d2b6",
   "metadata": {},
   "outputs": [
    {
     "data": {
      "text/html": [
       "<div>\n",
       "<style scoped>\n",
       "    .dataframe tbody tr th:only-of-type {\n",
       "        vertical-align: middle;\n",
       "    }\n",
       "\n",
       "    .dataframe tbody tr th {\n",
       "        vertical-align: top;\n",
       "    }\n",
       "\n",
       "    .dataframe thead th {\n",
       "        text-align: right;\n",
       "    }\n",
       "</style>\n",
       "<table border=\"1\" class=\"dataframe\">\n",
       "  <thead>\n",
       "    <tr style=\"text-align: right;\">\n",
       "      <th></th>\n",
       "      <th>Airline</th>\n",
       "      <th>Source</th>\n",
       "      <th>Destination</th>\n",
       "      <th>Duration</th>\n",
       "      <th>Total_Stops</th>\n",
       "      <th>Additional_Info</th>\n",
       "      <th>Price</th>\n",
       "      <th>Journey_month</th>\n",
       "      <th>Journey_day</th>\n",
       "      <th>Arrival_hour</th>\n",
       "      <th>Arrival_min</th>\n",
       "      <th>Dep_hour</th>\n",
       "      <th>Dep_min</th>\n",
       "    </tr>\n",
       "  </thead>\n",
       "  <tbody>\n",
       "    <tr>\n",
       "      <th>0</th>\n",
       "      <td>IndiGo</td>\n",
       "      <td>Kolkata</td>\n",
       "      <td>Banglore</td>\n",
       "      <td>150</td>\n",
       "      <td>0</td>\n",
       "      <td>No info</td>\n",
       "      <td>5644</td>\n",
       "      <td>9</td>\n",
       "      <td>6</td>\n",
       "      <td>16</td>\n",
       "      <td>55</td>\n",
       "      <td>14</td>\n",
       "      <td>25</td>\n",
       "    </tr>\n",
       "    <tr>\n",
       "      <th>1</th>\n",
       "      <td>Vistara</td>\n",
       "      <td>Mumbai</td>\n",
       "      <td>Hyderabad</td>\n",
       "      <td>1480</td>\n",
       "      <td>1</td>\n",
       "      <td>No info</td>\n",
       "      <td>12395</td>\n",
       "      <td>6</td>\n",
       "      <td>3</td>\n",
       "      <td>9</td>\n",
       "      <td>25</td>\n",
       "      <td>8</td>\n",
       "      <td>45</td>\n",
       "    </tr>\n",
       "    <tr>\n",
       "      <th>2</th>\n",
       "      <td>IndiGo</td>\n",
       "      <td>Banglore</td>\n",
       "      <td>Delhi</td>\n",
       "      <td>165</td>\n",
       "      <td>0</td>\n",
       "      <td>No info</td>\n",
       "      <td>4077</td>\n",
       "      <td>3</td>\n",
       "      <td>4</td>\n",
       "      <td>8</td>\n",
       "      <td>50</td>\n",
       "      <td>6</td>\n",
       "      <td>5</td>\n",
       "    </tr>\n",
       "    <tr>\n",
       "      <th>3</th>\n",
       "      <td>Vistara</td>\n",
       "      <td>Kolkata</td>\n",
       "      <td>Banglore</td>\n",
       "      <td>385</td>\n",
       "      <td>1</td>\n",
       "      <td>No info</td>\n",
       "      <td>8610</td>\n",
       "      <td>12</td>\n",
       "      <td>6</td>\n",
       "      <td>23</td>\n",
       "      <td>25</td>\n",
       "      <td>17</td>\n",
       "      <td>0</td>\n",
       "    </tr>\n",
       "    <tr>\n",
       "      <th>4</th>\n",
       "      <td>IndiGo</td>\n",
       "      <td>Banglore</td>\n",
       "      <td>New Delhi</td>\n",
       "      <td>175</td>\n",
       "      <td>0</td>\n",
       "      <td>No info</td>\n",
       "      <td>10067</td>\n",
       "      <td>1</td>\n",
       "      <td>3</td>\n",
       "      <td>13</td>\n",
       "      <td>0</td>\n",
       "      <td>10</td>\n",
       "      <td>5</td>\n",
       "    </tr>\n",
       "  </tbody>\n",
       "</table>\n",
       "</div>"
      ],
      "text/plain": [
       "   Airline    Source Destination  Duration  Total_Stops Additional_Info  \\\n",
       "0   IndiGo   Kolkata    Banglore       150            0         No info   \n",
       "1  Vistara    Mumbai   Hyderabad      1480            1         No info   \n",
       "2   IndiGo  Banglore       Delhi       165            0         No info   \n",
       "3  Vistara   Kolkata    Banglore       385            1         No info   \n",
       "4   IndiGo  Banglore   New Delhi       175            0         No info   \n",
       "\n",
       "   Price  Journey_month  Journey_day  Arrival_hour  Arrival_min  Dep_hour  \\\n",
       "0   5644              9            6            16           55        14   \n",
       "1  12395              6            3             9           25         8   \n",
       "2   4077              3            4             8           50         6   \n",
       "3   8610             12            6            23           25        17   \n",
       "4  10067              1            3            13            0        10   \n",
       "\n",
       "   Dep_min  \n",
       "0       25  \n",
       "1       45  \n",
       "2        5  \n",
       "3        0  \n",
       "4        5  "
      ]
     },
     "execution_count": 33,
     "metadata": {},
     "output_type": "execute_result"
    }
   ],
   "source": [
    "df.head()"
   ]
  },
  {
   "cell_type": "code",
   "execution_count": 34,
   "id": "f7b9c93c",
   "metadata": {},
   "outputs": [
    {
     "name": "stdout",
     "output_type": "stream",
     "text": [
      "<class 'pandas.core.frame.DataFrame'>\n",
      "Int64Index: 7753 entries, 0 to 8011\n",
      "Data columns (total 13 columns):\n",
      " #   Column           Non-Null Count  Dtype \n",
      "---  ------           --------------  ----- \n",
      " 0   Airline          7753 non-null   object\n",
      " 1   Source           7753 non-null   object\n",
      " 2   Destination      7753 non-null   object\n",
      " 3   Duration         7753 non-null   int64 \n",
      " 4   Total_Stops      7753 non-null   int32 \n",
      " 5   Additional_Info  7753 non-null   object\n",
      " 6   Price            7753 non-null   int64 \n",
      " 7   Journey_month    7753 non-null   int64 \n",
      " 8   Journey_day      7753 non-null   int64 \n",
      " 9   Arrival_hour     7753 non-null   int64 \n",
      " 10  Arrival_min      7753 non-null   int64 \n",
      " 11  Dep_hour         7753 non-null   int64 \n",
      " 12  Dep_min          7753 non-null   int64 \n",
      "dtypes: int32(1), int64(8), object(4)\n",
      "memory usage: 817.7+ KB\n"
     ]
    }
   ],
   "source": [
    "df.info()"
   ]
  },
  {
   "cell_type": "code",
   "execution_count": 35,
   "id": "fff38209",
   "metadata": {},
   "outputs": [
    {
     "data": {
      "text/plain": [
       "Airline              11\n",
       "Source                5\n",
       "Destination           6\n",
       "Duration            337\n",
       "Total_Stops           5\n",
       "Additional_Info       6\n",
       "Price              1579\n",
       "Journey_month         7\n",
       "Journey_day           9\n",
       "Arrival_hour         24\n",
       "Arrival_min          12\n",
       "Dep_hour             24\n",
       "Dep_min              12\n",
       "dtype: int64"
      ]
     },
     "execution_count": 35,
     "metadata": {},
     "output_type": "execute_result"
    }
   ],
   "source": [
    "df.nunique()"
   ]
  },
  {
   "cell_type": "markdown",
   "id": "f1550883",
   "metadata": {},
   "source": [
    "Now that our dataset is clean and tidy, we are left with a total of 13 columns and 7753  rows to dig into during our analysis"
   ]
  },
  {
   "cell_type": "markdown",
   "id": "9a1eefe7",
   "metadata": {},
   "source": [
    "###### 5.Data Vigualization\n",
    "here, we'd use Matplotlib and seaborn for making some informative visuals to gain insights abut our data."
   ]
  },
  {
   "cell_type": "code",
   "execution_count": 36,
   "id": "79d97bbd",
   "metadata": {},
   "outputs": [
    {
     "data": {
      "image/png": "[encoded data removed]",
      "text/plain": [
       "<Figure size 360x360 with 1 Axes>"
      ]
     },
     "metadata": {
      "needs_background": "light"
     },
     "output_type": "display_data"
    }
   ],
   "source": [
    "# visualizing Airline column\n",
    "sns.catplot(y = 'Airline', data = df, kind = 'count', \n",
    "            order = df['Airline'].value_counts().index,\n",
    "            color = 'tab:blue')\n",
    "plt.title('Airline column distribution')\n",
    "plt.show()"
   ]
  },
  {
   "cell_type": "markdown",
   "id": "e6edbf4a",
   "metadata": {},
   "source": [
    "* it looks like the Jet Airways is the most popular Airline"
   ]
  },
  {
   "cell_type": "code",
   "execution_count": 37,
   "id": "e545b6fc",
   "metadata": {},
   "outputs": [
    {
     "data": {
      "image/png": "[encoded data removed]",
      "text/plain": [
       "<Figure size 864x288 with 1 Axes>"
      ]
     },
     "metadata": {
      "needs_background": "light"
     },
     "output_type": "display_data"
    }
   ],
   "source": [
    "# Destination VS Price\n",
    "sns.catplot(y = \"Price\", x = \"Destination\", data = df.sort_values(\"Price\", ascending = False),\n",
    "            kind=\"box\", height = 4, aspect = 3, color='tab:blue')\n",
    "plt.title('Destination VS Price')\n",
    "plt.show()"
   ]
  },
  {
   "cell_type": "markdown",
   "id": "74fde831",
   "metadata": {},
   "source": [
    "* Here we are plotting the box plot with the help of a cat plot between the price of the flight and the destination to which the passenger is travelling and figured out that New Delhi has the most outliers and Kolkata has the least."
   ]
  },
  {
   "cell_type": "code",
   "execution_count": 58,
   "id": "56b4a50c",
   "metadata": {},
   "outputs": [
    {
     "data": {
      "image/png": "[encoded data removed]",
      "text/plain": [
       "<Figure size 432x288 with 1 Axes>"
      ]
     },
     "metadata": {
      "needs_background": "light"
     },
     "output_type": "display_data"
    }
   ],
   "source": [
    "# Source VS Price\n",
    "sns.boxplot(x='Source', y='Price', data= df, color='tab:blue')\n",
    "plt.title('Source VS Price')\n",
    "plt.show()"
   ]
  },
  {
   "cell_type": "markdown",
   "id": "b01a0254",
   "metadata": {},
   "source": [
    "* Kolkata and Delhi are expensive Sources"
   ]
  },
  {
   "cell_type": "code",
   "execution_count": 40,
   "id": "f6f29b18",
   "metadata": {},
   "outputs": [
    {
     "data": {
      "image/png": "[encoded data removed]",
      "text/plain": [
       "<Figure size 432x288 with 1 Axes>"
      ]
     },
     "metadata": {
      "needs_background": "light"
     },
     "output_type": "display_data"
    }
   ],
   "source": [
    "# Total_Stops VS Price\n",
    "sns.boxplot(x='Total_Stops', y='Price', data= df, color='tab:blue')\n",
    "plt.title('Total stops VS Price')\n",
    "plt.show()"
   ]
  },
  {
   "cell_type": "markdown",
   "id": "fc887685",
   "metadata": {},
   "source": [
    "* the more the stops are the more the price gets"
   ]
  },
  {
   "cell_type": "code",
   "execution_count": 41,
   "id": "d16dc4e6",
   "metadata": {},
   "outputs": [
    {
     "data": {
      "image/png": "[encoded data removed]",
      "text/plain": [
       "<Figure size 720x360 with 1 Axes>"
      ]
     },
     "metadata": {
      "needs_background": "light"
     },
     "output_type": "display_data"
    }
   ],
   "source": [
    "plt.figure(figsize = (10, 5))\n",
    "plt.title('Count of flights month wise')\n",
    "ax=sns.countplot(x = 'Journey_month', data = df, color='tab:blue')\n",
    "plt.xlabel('Month')\n",
    "plt.ylabel('Count of flights')\n",
    "for p in ax.patches:\n",
    "    ax.annotate(int(p.get_height()), (p.get_x()+0.25, p.get_height()+1), va='bottom', color= 'black')"
   ]
  },
  {
   "cell_type": "markdown",
   "id": "62171337",
   "metadata": {},
   "source": [
    "* Here in the above graph we have plotted the count plot for journey in a month vs several flights and got to see that <b>June </b>has the most number of flights and <b>April</b> has the least."
   ]
  },
  {
   "cell_type": "markdown",
   "id": "b4113e71",
   "metadata": {},
   "source": [
    "###### 6.Data Preprocessing"
   ]
  },
  {
   "cell_type": "code",
   "execution_count": 42,
   "id": "02e384c9",
   "metadata": {},
   "outputs": [
    {
     "data": {
      "text/plain": [
       "0       1\n",
       "1       5\n",
       "2       1\n",
       "3       5\n",
       "4       1\n",
       "       ..\n",
       "8007    1\n",
       "8008    1\n",
       "8009    6\n",
       "8010    4\n",
       "8011    2\n",
       "Name: Airline, Length: 7753, dtype: int64"
      ]
     },
     "execution_count": 42,
     "metadata": {},
     "output_type": "execute_result"
    }
   ],
   "source": [
    "# Encoding the Airline column\n",
    "airlines = list(df['Airline'].value_counts().index)\n",
    "airlines_map = {k: v for v, k in enumerate(airlines)}\n",
    "df['Airline'] = df['Airline'].map(airlines_map)\n",
    "df['Airline']"
   ]
  },
  {
   "cell_type": "markdown",
   "id": "510cf502",
   "metadata": {},
   "source": [
    "for this column we need extract:\n",
    "- 'In-flight meal not included'  \n",
    "- 'No check-in baggage included' "
   ]
  },
  {
   "cell_type": "code",
   "execution_count": 43,
   "id": "4b954257",
   "metadata": {},
   "outputs": [],
   "source": [
    "df['Included Meal'] = df['Additional_Info'].apply(lambda x: 0 if x == 'In-flight meal not included' else 1)\n",
    "df['Included Baggage'] = df['Additional_Info'].apply(lambda x: 0 if x == 'No check-in baggage included' else 1)\n",
    "df = df.drop('Additional_Info', axis=1)"
   ]
  },
  {
   "cell_type": "markdown",
   "id": "642ed686",
   "metadata": {},
   "source": [
    "the next step is encode the `Source` and `Destination` columns"
   ]
  },
  {
   "cell_type": "code",
   "execution_count": 44,
   "id": "1209a9e9",
   "metadata": {},
   "outputs": [
    {
     "data": {
      "text/html": [
       "<div>\n",
       "<style scoped>\n",
       "    .dataframe tbody tr th:only-of-type {\n",
       "        vertical-align: middle;\n",
       "    }\n",
       "\n",
       "    .dataframe tbody tr th {\n",
       "        vertical-align: top;\n",
       "    }\n",
       "\n",
       "    .dataframe thead th {\n",
       "        text-align: right;\n",
       "    }\n",
       "</style>\n",
       "<table border=\"1\" class=\"dataframe\">\n",
       "  <thead>\n",
       "    <tr style=\"text-align: right;\">\n",
       "      <th></th>\n",
       "      <th>0</th>\n",
       "      <th>1</th>\n",
       "      <th>2</th>\n",
       "      <th>3</th>\n",
       "      <th>4</th>\n",
       "      <th>5</th>\n",
       "      <th>6</th>\n",
       "      <th>7</th>\n",
       "      <th>8</th>\n",
       "      <th>9</th>\n",
       "      <th>10</th>\n",
       "    </tr>\n",
       "  </thead>\n",
       "  <tbody>\n",
       "    <tr>\n",
       "      <th>0</th>\n",
       "      <td>0.0</td>\n",
       "      <td>0.0</td>\n",
       "      <td>0.0</td>\n",
       "      <td>1.0</td>\n",
       "      <td>0.0</td>\n",
       "      <td>1.0</td>\n",
       "      <td>0.0</td>\n",
       "      <td>0.0</td>\n",
       "      <td>0.0</td>\n",
       "      <td>0.0</td>\n",
       "      <td>0.0</td>\n",
       "    </tr>\n",
       "    <tr>\n",
       "      <th>1</th>\n",
       "      <td>0.0</td>\n",
       "      <td>0.0</td>\n",
       "      <td>0.0</td>\n",
       "      <td>0.0</td>\n",
       "      <td>1.0</td>\n",
       "      <td>0.0</td>\n",
       "      <td>0.0</td>\n",
       "      <td>0.0</td>\n",
       "      <td>1.0</td>\n",
       "      <td>0.0</td>\n",
       "      <td>0.0</td>\n",
       "    </tr>\n",
       "    <tr>\n",
       "      <th>2</th>\n",
       "      <td>1.0</td>\n",
       "      <td>0.0</td>\n",
       "      <td>0.0</td>\n",
       "      <td>0.0</td>\n",
       "      <td>0.0</td>\n",
       "      <td>0.0</td>\n",
       "      <td>0.0</td>\n",
       "      <td>1.0</td>\n",
       "      <td>0.0</td>\n",
       "      <td>0.0</td>\n",
       "      <td>0.0</td>\n",
       "    </tr>\n",
       "    <tr>\n",
       "      <th>3</th>\n",
       "      <td>0.0</td>\n",
       "      <td>0.0</td>\n",
       "      <td>0.0</td>\n",
       "      <td>1.0</td>\n",
       "      <td>0.0</td>\n",
       "      <td>1.0</td>\n",
       "      <td>0.0</td>\n",
       "      <td>0.0</td>\n",
       "      <td>0.0</td>\n",
       "      <td>0.0</td>\n",
       "      <td>0.0</td>\n",
       "    </tr>\n",
       "    <tr>\n",
       "      <th>4</th>\n",
       "      <td>1.0</td>\n",
       "      <td>0.0</td>\n",
       "      <td>0.0</td>\n",
       "      <td>0.0</td>\n",
       "      <td>0.0</td>\n",
       "      <td>0.0</td>\n",
       "      <td>0.0</td>\n",
       "      <td>0.0</td>\n",
       "      <td>0.0</td>\n",
       "      <td>0.0</td>\n",
       "      <td>1.0</td>\n",
       "    </tr>\n",
       "    <tr>\n",
       "      <th>...</th>\n",
       "      <td>...</td>\n",
       "      <td>...</td>\n",
       "      <td>...</td>\n",
       "      <td>...</td>\n",
       "      <td>...</td>\n",
       "      <td>...</td>\n",
       "      <td>...</td>\n",
       "      <td>...</td>\n",
       "      <td>...</td>\n",
       "      <td>...</td>\n",
       "      <td>...</td>\n",
       "    </tr>\n",
       "    <tr>\n",
       "      <th>7748</th>\n",
       "      <td>0.0</td>\n",
       "      <td>0.0</td>\n",
       "      <td>1.0</td>\n",
       "      <td>0.0</td>\n",
       "      <td>0.0</td>\n",
       "      <td>0.0</td>\n",
       "      <td>1.0</td>\n",
       "      <td>0.0</td>\n",
       "      <td>0.0</td>\n",
       "      <td>0.0</td>\n",
       "      <td>0.0</td>\n",
       "    </tr>\n",
       "    <tr>\n",
       "      <th>7749</th>\n",
       "      <td>0.0</td>\n",
       "      <td>0.0</td>\n",
       "      <td>0.0</td>\n",
       "      <td>0.0</td>\n",
       "      <td>1.0</td>\n",
       "      <td>0.0</td>\n",
       "      <td>0.0</td>\n",
       "      <td>0.0</td>\n",
       "      <td>1.0</td>\n",
       "      <td>0.0</td>\n",
       "      <td>0.0</td>\n",
       "    </tr>\n",
       "    <tr>\n",
       "      <th>7750</th>\n",
       "      <td>0.0</td>\n",
       "      <td>0.0</td>\n",
       "      <td>0.0</td>\n",
       "      <td>1.0</td>\n",
       "      <td>0.0</td>\n",
       "      <td>1.0</td>\n",
       "      <td>0.0</td>\n",
       "      <td>0.0</td>\n",
       "      <td>0.0</td>\n",
       "      <td>0.0</td>\n",
       "      <td>0.0</td>\n",
       "    </tr>\n",
       "    <tr>\n",
       "      <th>7751</th>\n",
       "      <td>0.0</td>\n",
       "      <td>1.0</td>\n",
       "      <td>0.0</td>\n",
       "      <td>0.0</td>\n",
       "      <td>0.0</td>\n",
       "      <td>0.0</td>\n",
       "      <td>0.0</td>\n",
       "      <td>0.0</td>\n",
       "      <td>0.0</td>\n",
       "      <td>1.0</td>\n",
       "      <td>0.0</td>\n",
       "    </tr>\n",
       "    <tr>\n",
       "      <th>7752</th>\n",
       "      <td>0.0</td>\n",
       "      <td>0.0</td>\n",
       "      <td>1.0</td>\n",
       "      <td>0.0</td>\n",
       "      <td>0.0</td>\n",
       "      <td>0.0</td>\n",
       "      <td>1.0</td>\n",
       "      <td>0.0</td>\n",
       "      <td>0.0</td>\n",
       "      <td>0.0</td>\n",
       "      <td>0.0</td>\n",
       "    </tr>\n",
       "  </tbody>\n",
       "</table>\n",
       "<p>7753 rows × 11 columns</p>\n",
       "</div>"
      ],
      "text/plain": [
       "       0    1    2    3    4    5    6    7    8    9    10\n",
       "0     0.0  0.0  0.0  1.0  0.0  1.0  0.0  0.0  0.0  0.0  0.0\n",
       "1     0.0  0.0  0.0  0.0  1.0  0.0  0.0  0.0  1.0  0.0  0.0\n",
       "2     1.0  0.0  0.0  0.0  0.0  0.0  0.0  1.0  0.0  0.0  0.0\n",
       "3     0.0  0.0  0.0  1.0  0.0  1.0  0.0  0.0  0.0  0.0  0.0\n",
       "4     1.0  0.0  0.0  0.0  0.0  0.0  0.0  0.0  0.0  0.0  1.0\n",
       "...   ...  ...  ...  ...  ...  ...  ...  ...  ...  ...  ...\n",
       "7748  0.0  0.0  1.0  0.0  0.0  0.0  1.0  0.0  0.0  0.0  0.0\n",
       "7749  0.0  0.0  0.0  0.0  1.0  0.0  0.0  0.0  1.0  0.0  0.0\n",
       "7750  0.0  0.0  0.0  1.0  0.0  1.0  0.0  0.0  0.0  0.0  0.0\n",
       "7751  0.0  1.0  0.0  0.0  0.0  0.0  0.0  0.0  0.0  1.0  0.0\n",
       "7752  0.0  0.0  1.0  0.0  0.0  0.0  1.0  0.0  0.0  0.0  0.0\n",
       "\n",
       "[7753 rows x 11 columns]"
      ]
     },
     "execution_count": 44,
     "metadata": {},
     "output_type": "execute_result"
    }
   ],
   "source": [
    "onc = OneHotEncoder(handle_unknown = 'ignore')\n",
    "cats = pd.DataFrame(onc.fit_transform(df[['Source', 'Destination']]).toarray())"
   ]
  },
  {
   "cell_type": "markdown",
   "id": "4810f0ed",
   "metadata": {},
   "source": [
    "we are going to initialize a function to measure the model metrics"
   ]
  },
  {
   "cell_type": "code",
   "execution_count": 45,
   "id": "da7094c0",
   "metadata": {},
   "outputs": [],
   "source": [
    "def performance(model,x_train,y_train,y_pred,y_test):\n",
    "    print('Training Score:',model.score(x_train,y_train))\n",
    "    print('Testing Score:',r2_score(y_test,y_pred))\n",
    "    print('Other Metrics In Testing Data: ')\n",
    "    print('MAE:',mean_absolute_error(y_test,y_pred))"
   ]
  },
  {
   "cell_type": "markdown",
   "id": "e506c8b6",
   "metadata": {},
   "source": [
    "###### 7.Dataset Splitting\n",
    "here, We would split our data to features and trget"
   ]
  },
  {
   "cell_type": "code",
   "execution_count": 46,
   "id": "673fcc3c",
   "metadata": {},
   "outputs": [],
   "source": [
    "# features\n",
    "x = df.drop(['Price', 'Source', 'Destination'],axis = 1)\n",
    "x.join(cats)\n",
    "\n",
    "# target\n",
    "y = df['Price']\n",
    "\n",
    "# scaling the features data\n",
    "scaler = StandardScaler()\n",
    "scaler.fit(x)\n",
    "x_new = scaler.transform(x)"
   ]
  },
  {
   "cell_type": "markdown",
   "id": "5c74ed7a",
   "metadata": {},
   "source": [
    "spliting the data to 80% for the train and 20% for the test"
   ]
  },
  {
   "cell_type": "code",
   "execution_count": 47,
   "id": "100182ed",
   "metadata": {},
   "outputs": [],
   "source": [
    "# splitting the data\n",
    "x_train,x_test,y_train,y_test = train_test_split(x_new,y,test_size=0.2,random_state=0,shuffle = False)"
   ]
  },
  {
   "cell_type": "markdown",
   "id": "60c7a220",
   "metadata": {},
   "source": [
    "###### 8. Modeling and Parameter Optimization"
   ]
  },
  {
   "cell_type": "markdown",
   "id": "b73ce183",
   "metadata": {},
   "source": [
    "###### 8.1 LinearRegression model "
   ]
  },
  {
   "cell_type": "code",
   "execution_count": 48,
   "id": "ce7625db",
   "metadata": {},
   "outputs": [],
   "source": [
    "#Fitting the model\n",
    "lr = LinearRegression()\n",
    "lr.fit(x_train,y_train)\n",
    "\n",
    "#The predicted data\n",
    "lr_pred =lr.predict(x_test)"
   ]
  },
  {
   "cell_type": "code",
   "execution_count": 49,
   "id": "99c1f47a",
   "metadata": {},
   "outputs": [
    {
     "name": "stdout",
     "output_type": "stream",
     "text": [
      "Training Score: 0.5241373936898959\n",
      "Testing Score: 0.5029213598835564\n",
      "Other Metrics In Testing Data: \n",
      "MAE: 2166.2578646233683\n"
     ]
    }
   ],
   "source": [
    "performance(lr,x_train,y_train,lr_pred,y_test)"
   ]
  },
  {
   "cell_type": "markdown",
   "id": "ef31b098",
   "metadata": {},
   "source": [
    "* it looks like the LinearRegression model won't be so helpful"
   ]
  },
  {
   "cell_type": "markdown",
   "id": "0e872055",
   "metadata": {},
   "source": [
    "###### 8.2 DecisionTreeRegressor"
   ]
  },
  {
   "cell_type": "code",
   "execution_count": 50,
   "id": "c5691122",
   "metadata": {},
   "outputs": [
    {
     "name": "stdout",
     "output_type": "stream",
     "text": [
      "Training Score: 0.9961116373350328\n",
      "Testing Score: 0.812804771398902\n",
      "Other Metrics In Testing Data: \n",
      "MAE: 795.8304319793682\n"
     ]
    }
   ],
   "source": [
    "#Fitting the model\n",
    "dt = DecisionTreeRegressor()\n",
    "dt.fit(x_train,y_train)\n",
    "\n",
    "#The predicted data\n",
    "dt_pred = dt.predict(x_test)\n",
    "\n",
    "#The performance\n",
    "performance(dt,x_train,y_train,dt_pred,y_test)"
   ]
  },
  {
   "cell_type": "markdown",
   "id": "4030fe58",
   "metadata": {},
   "source": [
    "* much better but we still need more"
   ]
  },
  {
   "cell_type": "markdown",
   "id": "eced1b3e",
   "metadata": {},
   "source": [
    "###### 8.3 RandomForestRegressor"
   ]
  },
  {
   "cell_type": "code",
   "execution_count": 51,
   "id": "7c640f21",
   "metadata": {},
   "outputs": [
    {
     "name": "stdout",
     "output_type": "stream",
     "text": [
      "Training Score: 0.9846778615896038\n",
      "Testing Score: 0.8941017318490116\n",
      "Other Metrics In Testing Data: \n",
      "MAE: 712.5329141132705\n"
     ]
    }
   ],
   "source": [
    "#Fitting the model\n",
    "rf = RandomForestRegressor()\n",
    "rf.fit(x_train,y_train)\n",
    "\n",
    "#The predicted data\n",
    "rf_pred = rf.predict(x_test)\n",
    "\n",
    "#The performance\n",
    "performance(rf,x_train,y_train,rf_pred,y_test)"
   ]
  },
  {
   "cell_type": "markdown",
   "id": "61c23acb",
   "metadata": {},
   "source": [
    "* the results seems to be good"
   ]
  },
  {
   "cell_type": "markdown",
   "id": "5898c4e5",
   "metadata": {},
   "source": [
    "###### 8.4 XGBRegressor"
   ]
  },
  {
   "cell_type": "code",
   "execution_count": 52,
   "id": "a4abd0fc",
   "metadata": {},
   "outputs": [
    {
     "name": "stdout",
     "output_type": "stream",
     "text": [
      "Training Score: 0.9930106056632323\n",
      "Testing Score: 0.9021223639923736\n",
      "Other Metrics In Testing Data: \n",
      "MAE: 737.7443092095322\n"
     ]
    }
   ],
   "source": [
    "#Fitting the model\n",
    "xgb = XGBRegressor(n_estimators = 300, max_depth = 7, learning_rate = 0.2)\n",
    "xgb.fit(x_train,y_train)\n",
    "\n",
    "#The predicted data\n",
    "xgb_pred = xgb.predict(x_test)\n",
    "\n",
    "#The performance\n",
    "performance(xgb,x_train,y_train,xgb_pred,y_test)"
   ]
  },
  {
   "cell_type": "markdown",
   "id": "3f94d0e5",
   "metadata": {},
   "source": [
    "* the results are so close to the RandomForestRegressor"
   ]
  },
  {
   "cell_type": "markdown",
   "id": "214214c7",
   "metadata": {},
   "source": [
    "###### xgboost hyperparameter tuning"
   ]
  },
  {
   "cell_type": "code",
   "execution_count": 53,
   "id": "193ad123",
   "metadata": {},
   "outputs": [
    {
     "name": "stdout",
     "output_type": "stream",
     "text": [
      "Best Estimator: XGBRegressor(base_score=0.5, booster='gbtree', callbacks=None,\n",
      "             colsample_bylevel=1, colsample_bynode=1, colsample_bytree=1,\n",
      "             early_stopping_rounds=None, enable_categorical=False,\n",
      "             eval_metric=None, gamma=0, gpu_id=-1, grow_policy='depthwise',\n",
      "             importance_type=None, interaction_constraints='',\n",
      "             learning_rate=0.1, max_bin=256, max_cat_to_onehot=4,\n",
      "             max_delta_step=0, max_depth=6, max_leaves=0, min_child_weight=1,\n",
      "             missing=nan, monotone_constraints='()', n_estimators=500, n_jobs=0,\n",
      "             num_parallel_tree=1, predictor='auto', random_state=0, reg_alpha=0,\n",
      "             reg_lambda=1, ...)\n",
      "Best Params: {'n_estimators': 500, 'max_depth': 6, 'learning_rate': 0.1}\n",
      "Training Score: 0.9816417957053961\n",
      "Testing Score: 0.9018575295286212\n",
      "Other Metrics In Testing Data: \n",
      "MAE: 764.9200993531139\n"
     ]
    },
    {
     "data": {
      "image/png": "[encoded data removed]",
      "text/plain": [
       "<Figure size 432x288 with 1 Axes>"
      ]
     },
     "metadata": {
      "needs_background": "light"
     },
     "output_type": "display_data"
    }
   ],
   "source": [
    "#Randomized search\n",
    "params = {\n",
    "         'max_depth': list(range(5,15)),'n_estimators': [300,400,500,600,700],'learning_rate': [0.01,0.1,0.2,0.9]\n",
    "         }\n",
    "rand_search = RandomizedSearchCV(XGBRegressor(),params,cv=10,n_jobs=-1)\n",
    "\n",
    "#Fitting the model\n",
    "rand_search.fit(x_train,y_train)\n",
    "\n",
    "#The best estimator\n",
    "print('Best Estimator:',rand_search.best_estimator_)\n",
    "\n",
    "#The best parameters\n",
    "print('Best Params:',rand_search.best_params_)\n",
    "\n",
    "#The predicted data\n",
    "rand_pred = rand_search.predict(x_test)\n",
    "\n",
    "#Decision tree performance after tuning\n",
    "performance(rand_search,x_train,y_train,rand_pred,y_test)\n",
    "\n",
    "#Plotting the results\n",
    "plt.scatter(rand_pred,y_test,c='blue',marker='o',s=25)\n",
    "plt.plot([y_test.min(),y_test.max()],[y_test.min(),y_test.max()],c='black',lw=4)\n",
    "plt.xlabel('Predicted Data',c='red')\n",
    "plt.ylabel('Actual Data',c='red')\n",
    "plt.title('Predicted Data VS Actual Data',c='red')\n",
    "plt.show()"
   ]
  },
  {
   "cell_type": "markdown",
   "id": "078622ac",
   "metadata": {},
   "source": [
    "###### 8.4 Ensambling RandomForestRegressor and XGBRegressor"
   ]
  },
  {
   "cell_type": "code",
   "execution_count": 54,
   "id": "84030f3e",
   "metadata": {},
   "outputs": [
    {
     "name": "stdout",
     "output_type": "stream",
     "text": [
      "MAE: 686.8795911742469\n"
     ]
    }
   ],
   "source": [
    "predictions = np.mean(np.array([xgb_pred, rf_pred]),axis=0)\n",
    "print('MAE:',mean_absolute_error(y_test,predictions))"
   ]
  },
  {
   "cell_type": "markdown",
   "id": "82a0bace",
   "metadata": {},
   "source": [
    "* the best results we got"
   ]
  },
  {
   "cell_type": "markdown",
   "id": "a09c8cf9",
   "metadata": {},
   "source": [
    "###### Preparing the test data for the model"
   ]
  },
  {
   "cell_type": "code",
   "execution_count": 64,
   "id": "fb84cf18",
   "metadata": {},
   "outputs": [],
   "source": [
    "#Applying all the cleaning steps on the test data\n",
    "\n",
    "def cleaning(df):\n",
    "    # dropping columns \n",
    "    df.drop(['Route'], axis = 1, inplace = True)\n",
    "    df.dropna(inplace=True)\n",
    "    # casting column\n",
    "    df['Journey_day'] = pd.to_datetime(df['Date_of_Journey'], format = \"%d/%m/%Y\").dt.day\n",
    "    df['Journey_month'] = pd.to_datetime(df['Date_of_Journey'], format = \"%d/%m/%Y\").dt.month\n",
    "    df.drop([\"Date_of_Journey\"],axis = 1, inplace = True)\n",
    "    df.replace({'Total_Stops' :{'non-stop':0, '1 stop':1, '2 stops':2, '3 stops':3, '4 stops':4}}, inplace=True)\n",
    "    df['Total_Stops'].fillna(0)\n",
    "    # casting the column into integer\n",
    "    df['Total_Stops']= df['Total_Stops'].astype('int')\n",
    "    \n",
    "    # combine the hours and munites values into one\n",
    "    df['Duration'] = df['Duration'].str.replace(\"h\", '*60').str.replace(' ','+').str.replace('m','*1').apply(eval)\n",
    "\n",
    "    df['Additional_Info'].replace({'No Info':'No info'},inplace = True)\n",
    "    df['Included Meal'] = df['Additional_Info'].apply(lambda x: 0 if x == 'In-flight meal not included' else 1)\n",
    "    df['Included Baggage'] = df['Additional_Info'].apply(lambda x: 0 if x == 'No check-in baggage included' else 1)\n",
    "    df = df.drop('Additional_Info', axis=1)\n",
    "    #clean Arrival_Time\n",
    "    df['Arrival_time']=df['Arrival_Time'].str.split(' ').str[0]\n",
    "\n",
    "    # Extracting Hours\n",
    "    df[\"Dep_hour\"] = pd.to_datetime(df[\"Dep_Time\"]).dt.hour\n",
    "\n",
    "    # Extracting Minutes\n",
    "    df[\"Dep_min\"] = pd.to_datetime(df[\"Dep_Time\"]).dt.minute\n",
    "\n",
    "    # Now we can drop Dep_Time as it is of no use\n",
    "    df.drop([\"Dep_Time\"], axis = 1, inplace = True)\n",
    "    # Extracting Hours\n",
    "    df[\"Arrival_hour\"] = pd.to_datetime(df.Arrival_time).dt.hour\n",
    "\n",
    "    # Extracting Minutes\n",
    "    df[\"Arrival_min\"] = pd.to_datetime(df.Arrival_time).dt.minute\n",
    "\n",
    "    # Now we can drop Arrival_Time as it is of no use\n",
    "    df.drop([\"Arrival_Time\"], axis = 1, inplace = True)\n",
    "    return df"
   ]
  },
  {
   "cell_type": "code",
   "execution_count": 65,
   "id": "e568b4d4",
   "metadata": {},
   "outputs": [],
   "source": [
    "# Reading the test data\n",
    "df2=pd.read_csv('Test set.csv')"
   ]
  },
  {
   "cell_type": "code",
   "execution_count": 66,
   "id": "d08ddc94",
   "metadata": {},
   "outputs": [],
   "source": [
    "# Cleaning the test data\n",
    "df2= cleaning(df2)"
   ]
  },
  {
   "cell_type": "code",
   "execution_count": 72,
   "id": "dbfda058",
   "metadata": {},
   "outputs": [],
   "source": [
    "# Encoding the Airline column\n",
    "df2['Airline'] = df2['Airline'].map(airlines_map)\n",
    "\n",
    "# Encoding the Source and Destination columns\n",
    "cats2 = pd.DataFrame(onc.transform(df2[['Source', 'Destination']]).toarray())"
   ]
  },
  {
   "cell_type": "code",
   "execution_count": 70,
   "id": "d2573524",
   "metadata": {},
   "outputs": [],
   "source": [
    "# Preparing the test data for the model\n",
    "x2 = df2.drop(['Source', 'Destination','Arrival_time'],axis = 1)\n",
    "x2_new = scaler.transform(x2)"
   ]
  },
  {
   "cell_type": "markdown",
   "id": "97a43b52",
   "metadata": {},
   "source": [
    "###### 9.Results"
   ]
  },
  {
   "cell_type": "code",
   "execution_count": 74,
   "id": "c2bac1d8",
   "metadata": {},
   "outputs": [],
   "source": [
    "# the model prediction\n",
    "xgb_tpred = xgb.predict(x2_new)"
   ]
  },
  {
   "cell_type": "code",
   "execution_count": 95,
   "id": "988f5840",
   "metadata": {},
   "outputs": [],
   "source": [
    "# creating a dataframe of the predictions\n",
    "answer = pd.DataFrame(xgb_tpred ,columns=['Price'])\n",
    "\n",
    "# renamong the index column\n",
    "answer.index.name='id'"
   ]
  },
  {
   "cell_type": "code",
   "execution_count": 91,
   "id": "5bdc39bb",
   "metadata": {},
   "outputs": [],
   "source": [
    "# saving our predictions in a csv file\n",
    "answer.to_csv('pred.csv')"
   ]
  },
  {
   "cell_type": "markdown",
   "id": "2846d331",
   "metadata": {},
   "source": [
    "###### Final summary"
   ]
  },
  {
   "cell_type": "markdown",
   "id": "2d628147",
   "metadata": {},
   "source": [
    "* we first explored the data and selected some problems to deal with before modeling\n",
    "* we then went throw some data cleaning:\n",
    "1. Dropping missing values and duplicated rows\n",
    "2. some columns were in inappropriate form. So, We organised them\n",
    "3. dropped outliers from the `Duration` and `Price` columns \n",
    "4. casted the columns into the right data types\n",
    "5. Dropped the unuseful columns\n",
    "after the cleaning phase we lost about 259 row and 1 column\n",
    "* then it was the time for the preprocessing:\n",
    "1. encoded categorical data\n",
    "2. scaled numerical data\n",
    "after the preprocessing the data became in the format that the model would understand\n",
    "* after that we moved to th model selection phase:\n",
    "1. we evaluated different models and XGBRegressor gave us the best results\n",
    "* then it was the time for preparing the test data for the model:\n",
    "1. we applied all cleaning the steps on it\n",
    "2. we encoded the categorical columns\n",
    "3. we scaled the numerical columns\n",
    "* then we got the model prediction and saved it in a csv file"
   ]
  },
  {
   "cell_type": "markdown",
   "id": "fceaf811",
   "metadata": {},
   "source": [
    "###### Feature Work"
   ]
  },
  {
   "cell_type": "markdown",
   "id": "b67eed3d",
   "metadata": {},
   "source": [
    "* if we had more time we could have used ANN model to enhance our predictions and score"
   ]
  }
 ],
 "metadata": {
  "kernelspec": {
   "display_name": "Python 3 (ipykernel)",
   "language": "python",
   "name": "python3"
  },
  "language_info": {
   "codemirror_mode": {
    "name": "ipython",
    "version": 3
   },
   "file_extension": ".py",
   "mimetype": "text/x-python",
   "name": "python",
   "nbconvert_exporter": "python",
   "pygments_lexer": "ipython3",
   "version": "3.9.7"
  }
 },
 "nbformat": 4,
 "nbformat_minor": 5
}
